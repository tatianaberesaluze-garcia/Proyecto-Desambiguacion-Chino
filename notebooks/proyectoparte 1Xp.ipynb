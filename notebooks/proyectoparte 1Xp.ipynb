{
  "cells": [
    {
      "cell_type": "code",
      "execution_count": null,
      "metadata": {
        "colab": {
          "base_uri": "https://localhost:8080/"
        },
        "id": "EKVcbKxK8ktF",
        "outputId": "d261024a-ce1f-4ef4-ecd8-6b9226ef9bc1"
      },
      "outputs": [],
      "source": [
        "#Descarga del diccionario (ingles-chino) CC-CEDICT desde https://www.mdbg.net/chinese/dictionary?page=cc-cedict\n",
        "# Descargamos el archivo CC-CEDICT desde el sitio oficial de MDBG\n",
        "!wget https://www.mdbg.net/chinese/export/cedict/cedict_1_0_ts_utf-8_mdbg.txt -O cedict.txt"
      ]
    },
    {
      "cell_type": "code",
      "execution_count": null,
      "metadata": {
        "colab": {
          "base_uri": "https://localhost:8080/",
          "height": 74
        },
        "id": "Ds7dIX0X1fZQ",
        "outputId": "feec5bbb-55ed-43d4-e230-491253885d6a"
      },
      "outputs": [],
      "source": [
        "#Una vez descargado el diccionario lo importamos ( se puede encontrar el archivo en mis documentos)\n",
        "from google.colab import files\n",
        "uploaded = files.upload()"
      ]
    },
    {
      "cell_type": "code",
      "execution_count": null,
      "metadata": {
        "id": "9LXQWGZr1ku7"
      },
      "outputs": [],
      "source": [
        "import gzip\n",
        "import shutil\n",
        "\n",
        "# Descomprime el .gz y lo guarda como .txt para poder procesar\n",
        "with gzip.open(\"cedict_1_0_ts_utf-8_mdbg.txt.gz\", 'rb') as f_in:\n",
        "    with open(\"cedict.txt\", 'wb') as f_out:\n",
        "        shutil.copyfileobj(f_in, f_out)"
      ]
    },
    {
      "cell_type": "code",
      "execution_count": null,
      "metadata": {
        "id": "V5vz8zkr8egL"
      },
      "outputs": [],
      "source": [
        "#el objetivo es extraer del diccionario las palabras chinas ambiguas,es decir, aquellas que tienen más de un significado, y opcionalmente traducirlas al español.\n"
      ]
    },
    {
      "cell_type": "code",
      "execution_count": null,
      "metadata": {
        "id": "oddAZZMn-Ou0"
      },
      "outputs": [],
      "source": [
        "#leemos y procesamos el archivo\n",
        "from collections import defaultdict\n",
        "\n",
        "# Creamos un diccionario donde cada palabra tendrá una lista de significados\n",
        "diccionario = defaultdict(list)\n",
        "\n",
        "# Abrimos el archivo .txt ya descomprimido\n",
        "with open(\"cedict.txt\", encoding=\"utf-8\") as f:\n",
        "    for linea in f:\n",
        "        if linea.startswith(\"#\"):\n",
        "            continue  # ignoramos las líneas de comentarios\n",
        "        try:\n",
        "            partes = linea.strip().split(\" \")\n",
        "            palabra = partes[0]  # lo primero que aparece es la palabra china\n",
        "            significados = linea.split(\"/\")  # los significados están entre barras \"/\"\n",
        "            if len(significados) > 2:\n",
        "                diccionario[palabra] = significados[1:-1]  # eliminamos los bordes vacíos\n",
        "        except:\n",
        "            continue  # si alguna línea da error, la ignoramos"
      ]
    },
    {
      "cell_type": "code",
      "execution_count": null,
      "metadata": {
        "colab": {
          "base_uri": "https://localhost:8080/"
        },
        "id": "LiOE3ZWB_mVP",
        "outputId": "2524ed0a-c4e4-4d5e-e9c7-1e631ad857a9"
      },
      "outputs": [],
      "source": [
        "#Filtramos solo las palabras que tienen más de un significado\n",
        "palabras_ambiguas = {k: v for k, v in diccionario.items() if len(v) > 1}\n",
        "\n",
        "print(\"Palabras ambiguas encontradas:\", len(palabras_ambiguas))"
      ]
    },
    {
      "cell_type": "code",
      "execution_count": null,
      "metadata": {
        "colab": {
          "base_uri": "https://localhost:8080/"
        },
        "id": "fbtkeJP1_wyi",
        "outputId": "21066f54-8f16-4f79-fdb6-f435f4a1c73a"
      },
      "outputs": [],
      "source": [
        "#vamos a ver un diccionario, donde cada clave es una palabra o sigla en chino (o combinación de letras),\n",
        "#y su valor es una lista de significados diferentes. Es decir, estamos viendo palabras ambiguas con múltiples sentidos.\n",
        "# Mostramos algunas palabras ambiguas para revisar\n",
        "for palabra, significados in list(palabras_ambiguas.items())[:10]:\n",
        "    print(f\"{palabra}: {significados}\")"
      ]
    },
    {
      "cell_type": "code",
      "execution_count": null,
      "metadata": {
        "colab": {
          "base_uri": "https://localhost:8080/"
        },
        "collapsed": true,
        "id": "GIT5YDjLBuN4",
        "outputId": "797b67ba-dfaf-4ea5-e66f-f3bde5a521e2"
      },
      "outputs": [],
      "source": [
        "# Ordenar palabras ambiguas por número de significados\n",
        "mas_ambiguas = sorted(palabras_ambiguas.items(), key=lambda x: len(x[1]), reverse=True)\n",
        "\n",
        "# Mostrar las más ambiguas\n",
        "for palabra, significados in mas_ambiguas[:300]:\n",
        "    print(f\"{palabra} ({len(significados)} significados): {significados}\")"
      ]
    },
    {
      "cell_type": "code",
      "execution_count": null,
      "metadata": {
        "id": "BlieneEiKAcV"
      },
      "outputs": [],
      "source": [
        "#ahora el objetivo es procesar las palabras ambiguas para identificar cuáles son las más importantes o buscadas,\n",
        "#habra varias formas de hacerlo dependiendo de qué consideremos como “importantes”, como las mas frecuentes en el lenguaje chino, para ello cargamos un archivo\n",
        "#de palabras frecuentes del chino para luego cruzarlas con las del otro diccionario\n"
      ]
    },
    {
      "cell_type": "code",
      "execution_count": null,
      "metadata": {
        "colab": {
          "base_uri": "https://localhost:8080/"
        },
        "id": "Aa174FjaDViG",
        "outputId": "00140b33-ba45-4532-fe67-0ffdfdc5331b"
      },
      "outputs": [],
      "source": [
        "#Cargamos un archivo de palabras frecuentes del chino de una base de datos publica\n",
        "# Descargar el archivo dict.txt directamente desde GitHub\n",
        "!wget https://github.com/fxsjy/jieba/raw/master/jieba/dict.txt -O dict.txt\n"
      ]
    },
    {
      "cell_type": "code",
      "execution_count": null,
      "metadata": {
        "id": "KHiqigSkGyAL"
      },
      "outputs": [],
      "source": [
        "#Creamos un diccionario de frecuencias que usaremos para cruzarlas con las palabras del diccionario\n",
        "#leemos y procesamos el archivo\n",
        "frecuencias = {}#guardara cada palabra como clave y su frecuencia como valor\n",
        "with open(\"dict.txt\", encoding=\"utf-8\") as f:\n",
        "    for linea in f: #recorre el archivo por lineas\n",
        "        partes = linea.strip().split()#limpiamos espacios en blanco\n",
        "        if len(partes) >= 2:#aseguramos que al menos tenga la palabra y su frecuencia\n",
        "            palabra = partes[0]\n",
        "            frecuencia = int(partes[1])\n",
        "            frecuencias[palabra] = frecuencia"
      ]
    },
    {
      "cell_type": "code",
      "execution_count": null,
      "metadata": {
        "colab": {
          "base_uri": "https://localhost:8080/"
        },
        "id": "40aLQhAVCVQy",
        "outputId": "033ccfb2-1c07-4cbd-ae7b-89708d314cf3"
      },
      "outputs": [],
      "source": [
        "#construimos un ranking de las palabras chinas ambiguas mas importantes, combinando: numero de significados( mas de 3) y que tan frecuentes son y cortas y comunes.\n",
        "ranking = []\n",
        "for palabra in palabras_ambiguas:\n",
        "   if palabra in frecuencias:\n",
        "        peso = len(palabras_ambiguas[palabra]) * frecuencias[palabra]\n",
        "        ranking.append((palabra, peso, palabras_ambiguas[palabra]))\n",
        "\n",
        "ranking.sort(key=lambda x: x[1], reverse=True)\n",
        "\n",
        "for p in ranking[:20]:\n",
        "    print(f\"{p[0]} (score {p[1]}): {p[2]}\")"
      ]
    },
    {
      "cell_type": "code",
      "execution_count": null,
      "metadata": {
        "id": "97iA4bucH-Zp"
      },
      "outputs": [],
      "source": [
        "#cruzamos los dos diccionarios para ver que palabras son mas frecuentes y mas relevantes y calculamos una puntuacion\n",
        "ranking = []\n",
        "\n",
        "for palabra in palabras_ambiguas:\n",
        "    if palabra in frecuencias:\n",
        "        # Score = número de significados * frecuencia de uso\n",
        "        score = len(palabras_ambiguas[palabra]) * frecuencias[palabra]\n",
        "        ranking.append((palabra, score, palabras_ambiguas[palabra]))\n"
      ]
    },
    {
      "cell_type": "code",
      "execution_count": null,
      "metadata": {
        "id": "dN35PEtsIPDj"
      },
      "outputs": [],
      "source": [
        "#ordenamos de mayor a menor\n",
        "ranking.sort(key=lambda x: x[1], reverse=True)"
      ]
    },
    {
      "cell_type": "code",
      "execution_count": null,
      "metadata": {
        "colab": {
          "base_uri": "https://localhost:8080/"
        },
        "collapsed": true,
        "id": "_MdX9iPLIuvQ",
        "outputId": "79b24e9d-4a37-48b6-b295-3e30b995a47f"
      },
      "outputs": [],
      "source": [
        "#vemos el ranking de 20 palabras\n",
        "for palabra, score, significados in ranking[:20]:\n",
        "    print(f\"{palabra} (score: {score}) → {significados}\")\n"
      ]
    },
    {
      "cell_type": "code",
      "execution_count": null,
      "metadata": {
        "colab": {
          "base_uri": "https://localhost:8080/"
        },
        "id": "L2ygsBnbJMbj",
        "outputId": "29f2914d-dba0-444f-b248-1bb982c568db"
      },
      "outputs": [],
      "source": [
        "print(\"Total de palabras ambiguas:\", len(palabras_ambiguas))"
      ]
    },
    {
      "cell_type": "code",
      "execution_count": null,
      "metadata": {
        "colab": {
          "base_uri": "https://localhost:8080/"
        },
        "id": "A16Ubt5HKF34",
        "outputId": "c41705e0-2df6-4c1f-9574-b2ffd29d2b73"
      },
      "outputs": [],
      "source": [
        "#palabras que tengan 3 o mas significados\n",
        "ranking_muy_ambiguas = [p for p in ranking if len(p[2]) > 3]\n",
        "print(\"Palabras con > 3 significados:\", len(ranking_muy_ambiguas))"
      ]
    },
    {
      "cell_type": "code",
      "execution_count": null,
      "metadata": {
        "colab": {
          "base_uri": "https://localhost:8080/"
        },
        "id": "Ot2yTimpKlCO",
        "outputId": "1b17d92c-a4fa-4048-e404-d9ec8f916f01"
      },
      "outputs": [],
      "source": [
        "#usar stopwords para quitar palabras muy basicas, aunque ambiguas son gramaticales y no interesantes......\n",
        "stopwords = [\"是\", \"有\", \"在\", \"的\", \"了\", \"和\", \"我\", \"你\", \"他\"]\n",
        "ranking_utiles = [p for p in ranking if p[0] not in stopwords]\n",
        "print(\"Palabras útiles después de quitar stopwords:\", len(ranking_utiles))\n"
      ]
    },
    {
      "cell_type": "code",
      "execution_count": null,
      "metadata": {
        "colab": {
          "base_uri": "https://localhost:8080/"
        },
        "id": "whuQ0MGDKkgD",
        "outputId": "23037ec8-28c9-48fd-c699-38bf2eb33626"
      },
      "outputs": [],
      "source": [
        "#damos mas peso a las palabras mas ambiguas que a las mas frecuentes\n",
        "#objetivo de este codigo es construir un ranking de las palabras chinas mas ambiguas, combinando\n",
        "#combinando cuantos significados tienen(ambiguedad)y que de frecuentes son en el idioma chino\n",
        "ranking = [] #lista vacia para crear palabras con su puntuacion, (score)\n",
        "\n",
        "for palabra in palabras_ambiguas:#recorre cada palabra que detecta ambigua\n",
        "    if palabra in frecuencias: # solo se procesa si aparece en el diccionario de frecuencia\n",
        "        significados = palabras_ambiguas[palabra]\n",
        "        frecuencia = frecuencias[palabra]\n",
        "        score = (len(significados) ** 2) * frecuencia\n",
        "        ranking.append((palabra, score, significados))\n",
        "\n",
        "# Ordenar\n",
        "ranking.sort(key=lambda x: x[1], reverse=True)\n",
        "\n",
        "# Mostrar resultados\n",
        "for palabra, score, significados in ranking[:20]:\n",
        "    print(f\"{palabra} (score: {score}) → {significados}\")"
      ]
    },
    {
      "cell_type": "markdown",
      "metadata": {
        "id": "ooyEMBSDLc__"
      },
      "source": []
    },
    {
      "cell_type": "code",
      "execution_count": null,
      "metadata": {
        "colab": {
          "base_uri": "https://localhost:8080/"
        },
        "id": "JyqvJ3eOvvgz",
        "outputId": "e9dcdd4f-1708-4dde-acaf-ab228ae3bdb7"
      },
      "outputs": [],
      "source": [
        "# Mostrar el score mínimo encontrado\n",
        "score_min = min([score for _, score, _ in ranking])\n",
        "print(\"Score mínimo:\", score_min)\n",
        "\n",
        "ranking.sort(key=lambda x: x[1])  # ordenar de menor a mayor\n",
        "print(f\"Palabra con score mínimo: {ranking[0]}\")\n"
      ]
    },
    {
      "cell_type": "code",
      "execution_count": null,
      "metadata": {
        "colab": {
          "base_uri": "https://localhost:8080/"
        },
        "id": "cfsfiUeN1mZW",
        "outputId": "e7beedea-d6e0-4ec3-815f-5e8e5c20709f"
      },
      "outputs": [],
      "source": [
        "#traduccion en pinyin\n",
        "!pip install pypinyin\n",
        "\n",
        "from pypinyin import lazy_pinyin\n",
        "\n",
        "def obtener_pinyin(palabra):\n",
        "    return \" \".join(lazy_pinyin(palabra))"
      ]
    },
    {
      "cell_type": "code",
      "execution_count": null,
      "metadata": {
        "colab": {
          "base_uri": "https://localhost:8080/"
        },
        "id": "TySVv0cs17wA",
        "outputId": "23992a08-6a8f-476a-e3bd-a3be51dd22f4"
      },
      "outputs": [],
      "source": [
        "#importo desde libreria el traductor que usa google para traducir al español\n",
        "!pip install deep-translator"
      ]
    },
    {
      "cell_type": "code",
      "execution_count": null,
      "metadata": {
        "colab": {
          "base_uri": "https://localhost:8080/"
        },
        "id": "YP6JO47jXSl-",
        "outputId": "38ef7d4d-dc86-4d70-8b7f-9c866ef7c621"
      },
      "outputs": [],
      "source": [
        "from deep_translator import GoogleTranslator\n",
        "\n",
        "traducido = GoogleTranslator(source='en', target='es').translate(\"to hit; to play\")\n",
        "print(traducido)"
      ]
    },
    {
      "cell_type": "code",
      "execution_count": null,
      "metadata": {
        "id": "CXdQc1JA1p_0"
      },
      "outputs": [],
      "source": [
        "#funcion para traducir del en-es cualquier text\n",
        "\n",
        "def traducir_es(texto_en):\n",
        "    try:\n",
        "        return GoogleTranslator(source='en', target='es').translate(texto_en)\n",
        "    except:\n",
        "        return \"\"\n"
      ]
    },
    {
      "cell_type": "code",
      "execution_count": null,
      "metadata": {
        "colab": {
          "base_uri": "https://localhost:8080/",
          "height": 287
        },
        "collapsed": true,
        "id": "qlaa6itd6YA-",
        "outputId": "35772656-f9d9-41af-a8ae-f7e4727148fb"
      },
      "outputs": [],
      "source": [
        "from google.colab import files\n",
        "files.download(\"/content/top_300_ambiguous_words.csv\")\n"
      ]
    },
    {
      "cell_type": "code",
      "execution_count": null,
      "metadata": {
        "colab": {
          "base_uri": "https://localhost:8080/"
        },
        "id": "8M1X4gz-7e12",
        "outputId": "96c0dad3-717d-4ccc-b559-d7847a64298a"
      },
      "outputs": [],
      "source": [
        "import pandas as pd\n",
        "\n",
        "df = pd.read_csv(\"/content/top_300_ambiguas_completo.csv\")\n",
        "\n",
        "print(df.head(10))"
      ]
    },
    {
      "cell_type": "code",
      "execution_count": null,
      "metadata": {
        "colab": {
          "base_uri": "https://localhost:8080/"
        },
        "id": "8Z4KML2c74bL",
        "outputId": "e74ede79-8170-4cfc-99e6-d5642fbcc06c"
      },
      "outputs": [],
      "source": [
        "df.info()"
      ]
    },
    {
      "cell_type": "code",
      "execution_count": null,
      "metadata": {
        "id": "LJMnTBk9ZiET"
      },
      "outputs": [],
      "source": [
        "\n",
        "def obtener_pinyin(palabra):\n",
        "    return \" \".join(lazy_pinyin(palabra))\n",
        "\n",
        "def traducir_es(texto_en):\n",
        "    try:\n",
        "        return GoogleTranslator(source='en', target='es').translate(texto_en)\n",
        "    except:\n",
        "        return \"\"\n",
        "\n",
        "def audio_url_google(palabra):\n",
        "    return f\"https://translate.google.com/translate_tts?ie=UTF-8&q={palabra}&tl=zh&client=tw-ob\"\n",
        "\n",
        "#top_300 usando 'ranking' variable\n",
        "top_300 = ranking[:300]\n"
      ]
    },
    {
      "cell_type": "code",
      "execution_count": null,
      "metadata": {
        "colab": {
          "base_uri": "https://localhost:8080/"
        },
        "id": "es4utn_zZh-K",
        "outputId": "abdb2ee6-d342-4b70-d02a-3abc83e3c6e1"
      },
      "outputs": [],
      "source": [
        "top_20 = df.sort_values(\"Score\", ascending=False).head(20)\n",
        "\n",
        "for i, row in top_20.iterrows():\n",
        "    print(f\"{row['Palabra']} ({row['Pinyin']}): {row['Significados_es']}\")"
      ]
    },
    {
      "cell_type": "code",
      "execution_count": null,
      "metadata": {
        "id": "OdJ2Tq_bZh2_"
      },
      "outputs": [],
      "source": [
        "#EMBEDDING DE LAS 20 PALABRAS MAS INTERESANTES"
      ]
    },
    {
      "cell_type": "code",
      "execution_count": null,
      "metadata": {
        "colab": {
          "base_uri": "https://localhost:8080/"
        },
        "collapsed": true,
        "id": "YizMGCgn-RAB",
        "outputId": "c4c8b190-d79d-46f2-bbbd-98bf928b9546"
      },
      "outputs": [],
      "source": [
        "!pip install transformers"
      ]
    },
    {
      "cell_type": "code",
      "execution_count": null,
      "metadata": {
        "colab": {
          "base_uri": "https://localhost:8080/",
          "height": 340,
          "referenced_widgets": [
            "8848f1eba4214f369c31fce7ab171249",
            "0f80d146cd38416e8983d7557d46f645",
            "6c68496f2faa4d1e929627ffafb581b0",
            "1da1f30498a945debce59d6ef5f377bb",
            "0f38e082e93543e8a6e9cd6be3905306",
            "57ef0c2993ae4124bdd65b736941774f",
            "eb36dc9234df4d8c94b17d00863d0508",
            "f1e24d8d69c5459e9805ec79ca3e882c",
            "780c7121175b4ddab907c134cb5b0d5c",
            "775ef2bbf50a42e6a3f8ca7f93d833ab",
            "16538211c3224735b93acbf7f9aaeda4",
            "00e558ca474a410cb0a6dd85c00e94e2",
            "8af3bd130a8447c181c5b3febdfbde98",
            "70d238ad5e1c437bb910e47faeca6d45",
            "bce75119b405481f8622c07406447d11",
            "fb6aa76d99be4b2294d8c680a0086d12",
            "97a01915dc0a442fb6c5f31b993c337b",
            "a424eea805c141f69acc139bde40981c",
            "4258a5c8ad654e969282e128a3abf457",
            "405a6fe172844de08978c5fc0ff248be",
            "9e1954b7c87548f9a897ca08e242b309",
            "4b01a77b6dbf45c281c70daf335d2a08",
            "b59deadec4194bc69f64dd5eac99a649",
            "f90752f742da476093e1957b3113e684",
            "dbb7a053d65645f395cb6ed9a8d0ee5a",
            "c5602b6bbaea433787e92877d317fccd",
            "a245a5aaf0d94a3aa84893a9d0bb5fae",
            "598407048f8a4f3da5624fa97df1f808",
            "f4d58b118f094a3794071b27f6d150c5",
            "fd64fbfcc7b0439ea9fec503cf2418b0",
            "505a03290e5341c687a16142d2db45a0",
            "e81683ad3ebe4ba6897b62f2e9bd03a0",
            "1572f4dfb31c4fbe94996287449ab281",
            "6a136e9d9c3d4934a2eaf4a8152c4326",
            "48e23b3c223b4d17b7bc2f0811aab9c3",
            "163a3f9b7a4d43ffbac16ce05184ea51",
            "74dd9b68afc24da49ea63dd74ae01dd3",
            "a890b735145443048fda7e10a313cdfe",
            "a78f2576e01b4bac9c720d8a39f444a9",
            "e4729d6f6e224215989da66ef0f243f6",
            "32f9a83522ff4c6c8654450cfb6b2d9c",
            "6adf3edd758247aea08275c0a79bcfbc",
            "48cfa3560c8d4d2aa04ae2670c15a135",
            "d3b509d5257b4aa18a635c285e267994",
            "3dc863be334b4d8b8efbd5dc8f35165b",
            "34354bc6bcb149d68c0025415b8f39ce",
            "19152f2dd4254a89a31b8853e31b16e2",
            "cfe09d8e298a43bca53d043c29e7bf3d",
            "4bd99b8aa0fd451cb88c489b58e63e68",
            "b27b7f749308455e99bf01c86c44f8c8",
            "1041e880a5b546c99de8a6ac8d0a6388",
            "58800380424a4131a196ad268848c655",
            "12f9acb065144f879e7a8d2bb1d71c09",
            "442a8525455849298f9bb902250019f5",
            "64d3d9d3ac494bdb87dab3c1716b7bd2"
          ]
        },
        "id": "CsdnTjyF_qTs",
        "outputId": "4608e191-c76e-40eb-8f52-2241aded37be"
      },
      "outputs": [],
      "source": [
        "#obtenemos los embeddings con BERT\n",
        "from transformers import BertTokenizer, BertModel\n",
        "import torch\n",
        "\n",
        "# Cargamos BERT en chino\n",
        "tokenizer = BertTokenizer.from_pretrained(\"bert-base-chinese\")\n",
        "model = BertModel.from_pretrained(\"bert-base-chinese\")\n",
        "\n",
        "# Lista de palabras ambiguas\n",
        "palabras = [\"打\", \"花\", \"看\", \"吃\", \"走\", \"开\", \"生\", \"上\", \"下\", \"起\"]\n",
        "\n",
        "# Función para obtener embeddings\n",
        "def obtener_embedding(palabra):\n",
        "    inputs = tokenizer(palabra, return_tensors=\"pt\")\n",
        "    outputs = model(**inputs)\n",
        "    return outputs.last_hidden_state.mean(dim=1).squeeze().detach().numpy()\n",
        "\n",
        "# Lista de palabras desde top_20\n",
        "palabras = top_20[\"Palabra\"].tolist()\n",
        "vectores = [obtener_embedding(p) for p in palabras]"
      ]
    },
    {
      "cell_type": "code",
      "execution_count": null,
      "metadata": {
        "colab": {
          "base_uri": "https://localhost:8080/"
        },
        "id": "oPIRL_WmgeBl",
        "outputId": "f00cb191-f9a5-47c6-f704-03675a160171"
      },
      "outputs": [],
      "source": [
        "#encontrar la palabra con mas significados\n",
        "#nos aseguramos de que los significados están separados por punto y coma\n",
        "df[\"Num_Significados\"] = df[\"Significados_en\"].apply(lambda x: len(x.split(\";\")))\n",
        "\n",
        "# Seleccionar la fila con más significados\n",
        "palabra_max = df.sort_values(\"Num_Significados\", ascending=False).iloc[0]\n",
        "print(f\"Palabra con más significados: {palabra_max['Palabra']} ({palabra_max['Pinyin']})\")\n",
        "print(\"Significados:\", palabra_max[\"Significados_es\"])\n",
        "# cuantos signficados tiene\n",
        "print(\"Número de significados:\", palabra_max[\"Num_Significados\"])\n",
        "\n"
      ]
    },
    {
      "cell_type": "code",
      "execution_count": null,
      "metadata": {
        "colab": {
          "base_uri": "https://localhost:8080/"
        },
        "id": "dBXWPPZIlEfS",
        "outputId": "7795c54f-1da8-4a30-ab67-68e2ab7241f4"
      },
      "outputs": [],
      "source": [
        "palabra = \"上\"\n",
        "fila = df[df[\"Palabra\"] == palabra].iloc[0]\n",
        "significados = [s.strip() for s in fila[\"Significados_en\"].split(\";\")]\n",
        "print(f\"Significados de {palabra}:\")\n",
        "for sig in significados:\n",
        "    print(\"-\", sig)\n",
        "\n"
      ]
    },
    {
      "cell_type": "code",
      "execution_count": null,
      "metadata": {
        "id": "OPU0uRrn_6NO"
      },
      "outputs": [],
      "source": [
        "# Embedding de la palabra en chino\n",
        "embedding_palabra = obtener_embedding(palabra)\n",
        "\n",
        "# Embeddings de los significados (en inglés)\n",
        "embeddings_significados = [obtener_embedding(sig) for sig in significados]"
      ]
    },
    {
      "cell_type": "code",
      "execution_count": null,
      "metadata": {
        "colab": {
          "base_uri": "https://localhost:8080/",
          "height": 1000
        },
        "id": "2RblCiDW5M3-",
        "outputId": "f2787429-c294-4f84-d22e-741c09942263"
      },
      "outputs": [],
      "source": [
        "from sklearn.decomposition import PCA\n",
        "import matplotlib.pyplot as plt\n",
        "\n",
        "# Unimos el embedding de la palabra con los de sus significados\n",
        "todos_vectores = [embedding_palabra] + embeddings_significados\n",
        "coords = PCA(n_components=2).fit_transform(todos_vectores)\n",
        "\n",
        "# Gráfico\n",
        "plt.figure(figsize=(12, 10))\n",
        "plt.title(f\"📍 Embeddings de los Significados de: {palabra} ({fila['Pinyin']})\", fontsize=16)\n",
        "plt.grid(True)\n",
        "\n",
        "# Punto central: la palabra en rojo\n",
        "plt.scatter(coords[0, 0], coords[0, 1], color='red', s=300, label=\"Palabra\")\n",
        "plt.text(coords[0, 0] + 0.02, coords[0, 1] + 0.02, f\"{palabra} ({fila['Pinyin']})\", fontsize=14, fontweight=\"bold\")\n",
        "\n",
        "# Puntos satélite: significados\n",
        "for i, significado in enumerate(significados):\n",
        "    x, y = coords[i + 1]\n",
        "    plt.scatter(x, y, color='blue', s=150)\n",
        "    plt.text(x + 0.01, y + 0.01, significado, fontsize=10)\n",
        "\n",
        "plt.legend([\"Palabra\", \"Significados\"], loc=\"best\")\n",
        "plt.tight_layout()\n",
        "plt.show()"
      ]
    },
    {
      "cell_type": "code",
      "execution_count": null,
      "metadata": {
        "id": "D_U733je5EZW"
      },
      "outputs": [],
      "source": [
        "#clasificamos los significados por categoria\n",
        "# Significados separados por punto y coma en tu CSV\n",
        "significados = [\n",
        "    \"(bound form) up\",\n",
        "    \"upper\",\n",
        "    \"above\",\n",
        "    \"previous\",\n",
        "    \"first (of multiple parts)\",\n",
        "    \"to climb\",\n",
        "    \"to get onto\",\n",
        "    \"to go up\",\n",
        "    \"to attend (class or university)\",\n",
        "    \"(directional complement) up\",\n",
        "    \"(noun suffix) on\",\n",
        "    \"above\"\n",
        "]\n",
        "\n",
        "# Clasificación manual por categoría\n",
        "categorias = [\n",
        "    \"dirección\",       # up\n",
        "    \"posición\",        # upper\n",
        "    \"posición\",        # above\n",
        "    \"tiempo\",          # previous\n",
        "    \"tiempo\",          # first of multiple parts\n",
        "    \"acción\",          # to climb\n",
        "    \"acción\",          # to get onto\n",
        "    \"acción\",          # to go up\n",
        "    \"actividad\",       # to attend\n",
        "    \"dirección\",       # complement up\n",
        "    \"gramática\",       # noun suffix on\n",
        "    \"posición\"         # above (de nuevo)\n",
        "]"
      ]
    },
    {
      "cell_type": "code",
      "execution_count": null,
      "metadata": {
        "id": "8Ks6kxkqmfMJ"
      },
      "outputs": [],
      "source": [
        "#asignamos colores por categoria\n",
        "# Asignamos un color a cada categoría\n",
        "colores_categoria = {\n",
        "    \"dirección\": \"blue\",\n",
        "    \"posición\": \"green\",\n",
        "    \"tiempo\": \"orange\",\n",
        "    \"acción\": \"purple\",\n",
        "    \"actividad\": \"teal\",\n",
        "    \"gramática\": \"brown\"\n",
        "}"
      ]
    },
    {
      "cell_type": "code",
      "execution_count": null,
      "metadata": {
        "colab": {
          "base_uri": "https://localhost:8080/",
          "height": 1000
        },
        "id": "OzFLZ1XMmmam",
        "outputId": "e843d13d-5474-4e4c-929e-90fddc7ce566"
      },
      "outputs": [],
      "source": [
        "#visualizar por colores en grupo\n",
        "from sklearn.decomposition import PCA\n",
        "import matplotlib.pyplot as plt\n",
        "\n",
        "# Calculamos coordenadas PCA\n",
        "todos_vectores = [obtener_embedding(palabra)] + [obtener_embedding(s) for s in significados]\n",
        "coords = PCA(n_components=2).fit_transform(todos_vectores)\n",
        "\n",
        "# Gráfico\n",
        "plt.figure(figsize=(12, 10))\n",
        "plt.title(f\"📍 Embeddings de los Significados de: {palabra} ({fila['Pinyin']})\", fontsize=16)\n",
        "plt.grid(True)\n",
        "\n",
        "# Punto central (la palabra china)\n",
        "plt.scatter(coords[0, 0], coords[0, 1], color='red', s=300, label=\"Palabra\")\n",
        "plt.text(coords[0, 0] + 0.02, coords[0, 1] + 0.02, f\"{palabra} ({fila['Pinyin']})\", fontsize=14, fontweight=\"bold\")\n",
        "\n",
        "# Puntos de los significados, coloreados\n",
        "for i, significado in enumerate(significados):\n",
        "    categoria = categorias[i]\n",
        "    color = colores_categoria[categoria]\n",
        "    x, y = coords[i + 1]\n",
        "    plt.scatter(x, y, color=color, s=180, label=categoria if categoria not in plt.gca().get_legend_handles_labels()[1] else None)\n",
        "    plt.text(x + 0.01, y + 0.01, significado, fontsize=10)\n",
        "\n",
        "plt.legend(title=\"Categorías\", loc=\"upper right\")\n",
        "plt.tight_layout()\n",
        "plt.show()"
      ]
    },
    {
      "cell_type": "code",
      "execution_count": null,
      "metadata": {
        "colab": {
          "base_uri": "https://localhost:8080/",
          "height": 424
        },
        "id": "7MqCyDUlenbV",
        "outputId": "e7718996-2cdb-4c97-8e28-66223ac813e2"
      },
      "outputs": [],
      "source": [
        "import pandas as pd\n",
        "import re\n",
        "\n",
        "# Lista para guardar cada fila como un dict\n",
        "datos = []\n",
        "\n",
        "with open(\"cedict.txt\", encoding=\"utf-8\") as f:\n",
        "    for linea in f:\n",
        "        if linea.startswith(\"#\"):\n",
        "            continue\n",
        "        try:\n",
        "            # Línea típica: 中國 中国 [Zhong1 guo2] /China/medio país/\n",
        "            trad = re.match(r\"(\\S+)\\s+(\\S+)\\s+\\[(.+?)\\]\\s+/(.+)/\", linea)\n",
        "            if trad:\n",
        "                palabra_simp = trad.group(1)\n",
        "                palabra_trad = trad.group(2)\n",
        "                pinyin = trad.group(3)\n",
        "                significados = trad.group(4).split('/')\n",
        "\n",
        "                if len(significados) > 1:\n",
        "                    for significado in significados:\n",
        "                        datos.append({\n",
        "                            \"palabra_china\": palabra_simp,\n",
        "                            \"pinyin\": pinyin,\n",
        "                            \"significado\": significado.strip(),\n",
        "                            \"categoria\": \"\",\n",
        "                            \"uso_tipico\": \"\"\n",
        "                        })\n",
        "        except:\n",
        "            continue\n",
        "\n",
        "# Creamos el DataFrame con los significados separados\n",
        "df = pd.DataFrame(datos)\n",
        "df.head(100)\n"
      ]
    }
  ],
  "metadata": {
    "accelerator": "GPU",
    "colab": {
      "gpuType": "T4",
      "provenance": []
    },
    "kernelspec": {
      "display_name": "Python 3",
      "name": "python3"
    },
    "language_info": {
      "name": "python"
    },
    "widgets": {
      "application/vnd.jupyter.widget-state+json": {
        "00e558ca474a410cb0a6dd85c00e94e2": {
          "model_module": "@jupyter-widgets/controls",
          "model_module_version": "1.5.0",
          "model_name": "HBoxModel",
          "state": {
            "_dom_classes": [],
            "_model_module": "@jupyter-widgets/controls",
            "_model_module_version": "1.5.0",
            "_model_name": "HBoxModel",
            "_view_count": null,
            "_view_module": "@jupyter-widgets/controls",
            "_view_module_version": "1.5.0",
            "_view_name": "HBoxView",
            "box_style": "",
            "children": [
              "IPY_MODEL_8af3bd130a8447c181c5b3febdfbde98",
              "IPY_MODEL_70d238ad5e1c437bb910e47faeca6d45",
              "IPY_MODEL_bce75119b405481f8622c07406447d11"
            ],
            "layout": "IPY_MODEL_fb6aa76d99be4b2294d8c680a0086d12"
          }
        },
        "0f38e082e93543e8a6e9cd6be3905306": {
          "model_module": "@jupyter-widgets/base",
          "model_module_version": "1.2.0",
          "model_name": "LayoutModel",
          "state": {
            "_model_module": "@jupyter-widgets/base",
            "_model_module_version": "1.2.0",
            "_model_name": "LayoutModel",
            "_view_count": null,
            "_view_module": "@jupyter-widgets/base",
            "_view_module_version": "1.2.0",
            "_view_name": "LayoutView",
            "align_content": null,
            "align_items": null,
            "align_self": null,
            "border": null,
            "bottom": null,
            "display": null,
            "flex": null,
            "flex_flow": null,
            "grid_area": null,
            "grid_auto_columns": null,
            "grid_auto_flow": null,
            "grid_auto_rows": null,
            "grid_column": null,
            "grid_gap": null,
            "grid_row": null,
            "grid_template_areas": null,
            "grid_template_columns": null,
            "grid_template_rows": null,
            "height": null,
            "justify_content": null,
            "justify_items": null,
            "left": null,
            "margin": null,
            "max_height": null,
            "max_width": null,
            "min_height": null,
            "min_width": null,
            "object_fit": null,
            "object_position": null,
            "order": null,
            "overflow": null,
            "overflow_x": null,
            "overflow_y": null,
            "padding": null,
            "right": null,
            "top": null,
            "visibility": null,
            "width": null
          }
        },
        "0f80d146cd38416e8983d7557d46f645": {
          "model_module": "@jupyter-widgets/controls",
          "model_module_version": "1.5.0",
          "model_name": "HTMLModel",
          "state": {
            "_dom_classes": [],
            "_model_module": "@jupyter-widgets/controls",
            "_model_module_version": "1.5.0",
            "_model_name": "HTMLModel",
            "_view_count": null,
            "_view_module": "@jupyter-widgets/controls",
            "_view_module_version": "1.5.0",
            "_view_name": "HTMLView",
            "description": "",
            "description_tooltip": null,
            "layout": "IPY_MODEL_57ef0c2993ae4124bdd65b736941774f",
            "placeholder": "​",
            "style": "IPY_MODEL_eb36dc9234df4d8c94b17d00863d0508",
            "value": "tokenizer_config.json: 100%"
          }
        },
        "1041e880a5b546c99de8a6ac8d0a6388": {
          "model_module": "@jupyter-widgets/controls",
          "model_module_version": "1.5.0",
          "model_name": "DescriptionStyleModel",
          "state": {
            "_model_module": "@jupyter-widgets/controls",
            "_model_module_version": "1.5.0",
            "_model_name": "DescriptionStyleModel",
            "_view_count": null,
            "_view_module": "@jupyter-widgets/base",
            "_view_module_version": "1.2.0",
            "_view_name": "StyleView",
            "description_width": ""
          }
        },
        "12f9acb065144f879e7a8d2bb1d71c09": {
          "model_module": "@jupyter-widgets/controls",
          "model_module_version": "1.5.0",
          "model_name": "ProgressStyleModel",
          "state": {
            "_model_module": "@jupyter-widgets/controls",
            "_model_module_version": "1.5.0",
            "_model_name": "ProgressStyleModel",
            "_view_count": null,
            "_view_module": "@jupyter-widgets/base",
            "_view_module_version": "1.2.0",
            "_view_name": "StyleView",
            "bar_color": null,
            "description_width": ""
          }
        },
        "1572f4dfb31c4fbe94996287449ab281": {
          "model_module": "@jupyter-widgets/controls",
          "model_module_version": "1.5.0",
          "model_name": "DescriptionStyleModel",
          "state": {
            "_model_module": "@jupyter-widgets/controls",
            "_model_module_version": "1.5.0",
            "_model_name": "DescriptionStyleModel",
            "_view_count": null,
            "_view_module": "@jupyter-widgets/base",
            "_view_module_version": "1.2.0",
            "_view_name": "StyleView",
            "description_width": ""
          }
        },
        "163a3f9b7a4d43ffbac16ce05184ea51": {
          "model_module": "@jupyter-widgets/controls",
          "model_module_version": "1.5.0",
          "model_name": "FloatProgressModel",
          "state": {
            "_dom_classes": [],
            "_model_module": "@jupyter-widgets/controls",
            "_model_module_version": "1.5.0",
            "_model_name": "FloatProgressModel",
            "_view_count": null,
            "_view_module": "@jupyter-widgets/controls",
            "_view_module_version": "1.5.0",
            "_view_name": "ProgressView",
            "bar_style": "success",
            "description": "",
            "description_tooltip": null,
            "layout": "IPY_MODEL_32f9a83522ff4c6c8654450cfb6b2d9c",
            "max": 624,
            "min": 0,
            "orientation": "horizontal",
            "style": "IPY_MODEL_6adf3edd758247aea08275c0a79bcfbc",
            "value": 624
          }
        },
        "16538211c3224735b93acbf7f9aaeda4": {
          "model_module": "@jupyter-widgets/controls",
          "model_module_version": "1.5.0",
          "model_name": "DescriptionStyleModel",
          "state": {
            "_model_module": "@jupyter-widgets/controls",
            "_model_module_version": "1.5.0",
            "_model_name": "DescriptionStyleModel",
            "_view_count": null,
            "_view_module": "@jupyter-widgets/base",
            "_view_module_version": "1.2.0",
            "_view_name": "StyleView",
            "description_width": ""
          }
        },
        "19152f2dd4254a89a31b8853e31b16e2": {
          "model_module": "@jupyter-widgets/controls",
          "model_module_version": "1.5.0",
          "model_name": "FloatProgressModel",
          "state": {
            "_dom_classes": [],
            "_model_module": "@jupyter-widgets/controls",
            "_model_module_version": "1.5.0",
            "_model_name": "FloatProgressModel",
            "_view_count": null,
            "_view_module": "@jupyter-widgets/controls",
            "_view_module_version": "1.5.0",
            "_view_name": "ProgressView",
            "bar_style": "success",
            "description": "",
            "description_tooltip": null,
            "layout": "IPY_MODEL_58800380424a4131a196ad268848c655",
            "max": 411553788,
            "min": 0,
            "orientation": "horizontal",
            "style": "IPY_MODEL_12f9acb065144f879e7a8d2bb1d71c09",
            "value": 411553788
          }
        },
        "1da1f30498a945debce59d6ef5f377bb": {
          "model_module": "@jupyter-widgets/controls",
          "model_module_version": "1.5.0",
          "model_name": "HTMLModel",
          "state": {
            "_dom_classes": [],
            "_model_module": "@jupyter-widgets/controls",
            "_model_module_version": "1.5.0",
            "_model_name": "HTMLModel",
            "_view_count": null,
            "_view_module": "@jupyter-widgets/controls",
            "_view_module_version": "1.5.0",
            "_view_name": "HTMLView",
            "description": "",
            "description_tooltip": null,
            "layout": "IPY_MODEL_775ef2bbf50a42e6a3f8ca7f93d833ab",
            "placeholder": "​",
            "style": "IPY_MODEL_16538211c3224735b93acbf7f9aaeda4",
            "value": " 49.0/49.0 [00:00&lt;00:00, 4.05kB/s]"
          }
        },
        "32f9a83522ff4c6c8654450cfb6b2d9c": {
          "model_module": "@jupyter-widgets/base",
          "model_module_version": "1.2.0",
          "model_name": "LayoutModel",
          "state": {
            "_model_module": "@jupyter-widgets/base",
            "_model_module_version": "1.2.0",
            "_model_name": "LayoutModel",
            "_view_count": null,
            "_view_module": "@jupyter-widgets/base",
            "_view_module_version": "1.2.0",
            "_view_name": "LayoutView",
            "align_content": null,
            "align_items": null,
            "align_self": null,
            "border": null,
            "bottom": null,
            "display": null,
            "flex": null,
            "flex_flow": null,
            "grid_area": null,
            "grid_auto_columns": null,
            "grid_auto_flow": null,
            "grid_auto_rows": null,
            "grid_column": null,
            "grid_gap": null,
            "grid_row": null,
            "grid_template_areas": null,
            "grid_template_columns": null,
            "grid_template_rows": null,
            "height": null,
            "justify_content": null,
            "justify_items": null,
            "left": null,
            "margin": null,
            "max_height": null,
            "max_width": null,
            "min_height": null,
            "min_width": null,
            "object_fit": null,
            "object_position": null,
            "order": null,
            "overflow": null,
            "overflow_x": null,
            "overflow_y": null,
            "padding": null,
            "right": null,
            "top": null,
            "visibility": null,
            "width": null
          }
        },
        "34354bc6bcb149d68c0025415b8f39ce": {
          "model_module": "@jupyter-widgets/controls",
          "model_module_version": "1.5.0",
          "model_name": "HTMLModel",
          "state": {
            "_dom_classes": [],
            "_model_module": "@jupyter-widgets/controls",
            "_model_module_version": "1.5.0",
            "_model_name": "HTMLModel",
            "_view_count": null,
            "_view_module": "@jupyter-widgets/controls",
            "_view_module_version": "1.5.0",
            "_view_name": "HTMLView",
            "description": "",
            "description_tooltip": null,
            "layout": "IPY_MODEL_b27b7f749308455e99bf01c86c44f8c8",
            "placeholder": "​",
            "style": "IPY_MODEL_1041e880a5b546c99de8a6ac8d0a6388",
            "value": "model.safetensors: 100%"
          }
        },
        "3dc863be334b4d8b8efbd5dc8f35165b": {
          "model_module": "@jupyter-widgets/controls",
          "model_module_version": "1.5.0",
          "model_name": "HBoxModel",
          "state": {
            "_dom_classes": [],
            "_model_module": "@jupyter-widgets/controls",
            "_model_module_version": "1.5.0",
            "_model_name": "HBoxModel",
            "_view_count": null,
            "_view_module": "@jupyter-widgets/controls",
            "_view_module_version": "1.5.0",
            "_view_name": "HBoxView",
            "box_style": "",
            "children": [
              "IPY_MODEL_34354bc6bcb149d68c0025415b8f39ce",
              "IPY_MODEL_19152f2dd4254a89a31b8853e31b16e2",
              "IPY_MODEL_cfe09d8e298a43bca53d043c29e7bf3d"
            ],
            "layout": "IPY_MODEL_4bd99b8aa0fd451cb88c489b58e63e68"
          }
        },
        "405a6fe172844de08978c5fc0ff248be": {
          "model_module": "@jupyter-widgets/controls",
          "model_module_version": "1.5.0",
          "model_name": "ProgressStyleModel",
          "state": {
            "_model_module": "@jupyter-widgets/controls",
            "_model_module_version": "1.5.0",
            "_model_name": "ProgressStyleModel",
            "_view_count": null,
            "_view_module": "@jupyter-widgets/base",
            "_view_module_version": "1.2.0",
            "_view_name": "StyleView",
            "bar_color": null,
            "description_width": ""
          }
        },
        "4258a5c8ad654e969282e128a3abf457": {
          "model_module": "@jupyter-widgets/base",
          "model_module_version": "1.2.0",
          "model_name": "LayoutModel",
          "state": {
            "_model_module": "@jupyter-widgets/base",
            "_model_module_version": "1.2.0",
            "_model_name": "LayoutModel",
            "_view_count": null,
            "_view_module": "@jupyter-widgets/base",
            "_view_module_version": "1.2.0",
            "_view_name": "LayoutView",
            "align_content": null,
            "align_items": null,
            "align_self": null,
            "border": null,
            "bottom": null,
            "display": null,
            "flex": null,
            "flex_flow": null,
            "grid_area": null,
            "grid_auto_columns": null,
            "grid_auto_flow": null,
            "grid_auto_rows": null,
            "grid_column": null,
            "grid_gap": null,
            "grid_row": null,
            "grid_template_areas": null,
            "grid_template_columns": null,
            "grid_template_rows": null,
            "height": null,
            "justify_content": null,
            "justify_items": null,
            "left": null,
            "margin": null,
            "max_height": null,
            "max_width": null,
            "min_height": null,
            "min_width": null,
            "object_fit": null,
            "object_position": null,
            "order": null,
            "overflow": null,
            "overflow_x": null,
            "overflow_y": null,
            "padding": null,
            "right": null,
            "top": null,
            "visibility": null,
            "width": null
          }
        },
        "442a8525455849298f9bb902250019f5": {
          "model_module": "@jupyter-widgets/base",
          "model_module_version": "1.2.0",
          "model_name": "LayoutModel",
          "state": {
            "_model_module": "@jupyter-widgets/base",
            "_model_module_version": "1.2.0",
            "_model_name": "LayoutModel",
            "_view_count": null,
            "_view_module": "@jupyter-widgets/base",
            "_view_module_version": "1.2.0",
            "_view_name": "LayoutView",
            "align_content": null,
            "align_items": null,
            "align_self": null,
            "border": null,
            "bottom": null,
            "display": null,
            "flex": null,
            "flex_flow": null,
            "grid_area": null,
            "grid_auto_columns": null,
            "grid_auto_flow": null,
            "grid_auto_rows": null,
            "grid_column": null,
            "grid_gap": null,
            "grid_row": null,
            "grid_template_areas": null,
            "grid_template_columns": null,
            "grid_template_rows": null,
            "height": null,
            "justify_content": null,
            "justify_items": null,
            "left": null,
            "margin": null,
            "max_height": null,
            "max_width": null,
            "min_height": null,
            "min_width": null,
            "object_fit": null,
            "object_position": null,
            "order": null,
            "overflow": null,
            "overflow_x": null,
            "overflow_y": null,
            "padding": null,
            "right": null,
            "top": null,
            "visibility": null,
            "width": null
          }
        },
        "48cfa3560c8d4d2aa04ae2670c15a135": {
          "model_module": "@jupyter-widgets/base",
          "model_module_version": "1.2.0",
          "model_name": "LayoutModel",
          "state": {
            "_model_module": "@jupyter-widgets/base",
            "_model_module_version": "1.2.0",
            "_model_name": "LayoutModel",
            "_view_count": null,
            "_view_module": "@jupyter-widgets/base",
            "_view_module_version": "1.2.0",
            "_view_name": "LayoutView",
            "align_content": null,
            "align_items": null,
            "align_self": null,
            "border": null,
            "bottom": null,
            "display": null,
            "flex": null,
            "flex_flow": null,
            "grid_area": null,
            "grid_auto_columns": null,
            "grid_auto_flow": null,
            "grid_auto_rows": null,
            "grid_column": null,
            "grid_gap": null,
            "grid_row": null,
            "grid_template_areas": null,
            "grid_template_columns": null,
            "grid_template_rows": null,
            "height": null,
            "justify_content": null,
            "justify_items": null,
            "left": null,
            "margin": null,
            "max_height": null,
            "max_width": null,
            "min_height": null,
            "min_width": null,
            "object_fit": null,
            "object_position": null,
            "order": null,
            "overflow": null,
            "overflow_x": null,
            "overflow_y": null,
            "padding": null,
            "right": null,
            "top": null,
            "visibility": null,
            "width": null
          }
        },
        "48e23b3c223b4d17b7bc2f0811aab9c3": {
          "model_module": "@jupyter-widgets/controls",
          "model_module_version": "1.5.0",
          "model_name": "HTMLModel",
          "state": {
            "_dom_classes": [],
            "_model_module": "@jupyter-widgets/controls",
            "_model_module_version": "1.5.0",
            "_model_name": "HTMLModel",
            "_view_count": null,
            "_view_module": "@jupyter-widgets/controls",
            "_view_module_version": "1.5.0",
            "_view_name": "HTMLView",
            "description": "",
            "description_tooltip": null,
            "layout": "IPY_MODEL_a78f2576e01b4bac9c720d8a39f444a9",
            "placeholder": "​",
            "style": "IPY_MODEL_e4729d6f6e224215989da66ef0f243f6",
            "value": "config.json: 100%"
          }
        },
        "4b01a77b6dbf45c281c70daf335d2a08": {
          "model_module": "@jupyter-widgets/controls",
          "model_module_version": "1.5.0",
          "model_name": "DescriptionStyleModel",
          "state": {
            "_model_module": "@jupyter-widgets/controls",
            "_model_module_version": "1.5.0",
            "_model_name": "DescriptionStyleModel",
            "_view_count": null,
            "_view_module": "@jupyter-widgets/base",
            "_view_module_version": "1.2.0",
            "_view_name": "StyleView",
            "description_width": ""
          }
        },
        "4bd99b8aa0fd451cb88c489b58e63e68": {
          "model_module": "@jupyter-widgets/base",
          "model_module_version": "1.2.0",
          "model_name": "LayoutModel",
          "state": {
            "_model_module": "@jupyter-widgets/base",
            "_model_module_version": "1.2.0",
            "_model_name": "LayoutModel",
            "_view_count": null,
            "_view_module": "@jupyter-widgets/base",
            "_view_module_version": "1.2.0",
            "_view_name": "LayoutView",
            "align_content": null,
            "align_items": null,
            "align_self": null,
            "border": null,
            "bottom": null,
            "display": null,
            "flex": null,
            "flex_flow": null,
            "grid_area": null,
            "grid_auto_columns": null,
            "grid_auto_flow": null,
            "grid_auto_rows": null,
            "grid_column": null,
            "grid_gap": null,
            "grid_row": null,
            "grid_template_areas": null,
            "grid_template_columns": null,
            "grid_template_rows": null,
            "height": null,
            "justify_content": null,
            "justify_items": null,
            "left": null,
            "margin": null,
            "max_height": null,
            "max_width": null,
            "min_height": null,
            "min_width": null,
            "object_fit": null,
            "object_position": null,
            "order": null,
            "overflow": null,
            "overflow_x": null,
            "overflow_y": null,
            "padding": null,
            "right": null,
            "top": null,
            "visibility": null,
            "width": null
          }
        },
        "505a03290e5341c687a16142d2db45a0": {
          "model_module": "@jupyter-widgets/controls",
          "model_module_version": "1.5.0",
          "model_name": "ProgressStyleModel",
          "state": {
            "_model_module": "@jupyter-widgets/controls",
            "_model_module_version": "1.5.0",
            "_model_name": "ProgressStyleModel",
            "_view_count": null,
            "_view_module": "@jupyter-widgets/base",
            "_view_module_version": "1.2.0",
            "_view_name": "StyleView",
            "bar_color": null,
            "description_width": ""
          }
        },
        "57ef0c2993ae4124bdd65b736941774f": {
          "model_module": "@jupyter-widgets/base",
          "model_module_version": "1.2.0",
          "model_name": "LayoutModel",
          "state": {
            "_model_module": "@jupyter-widgets/base",
            "_model_module_version": "1.2.0",
            "_model_name": "LayoutModel",
            "_view_count": null,
            "_view_module": "@jupyter-widgets/base",
            "_view_module_version": "1.2.0",
            "_view_name": "LayoutView",
            "align_content": null,
            "align_items": null,
            "align_self": null,
            "border": null,
            "bottom": null,
            "display": null,
            "flex": null,
            "flex_flow": null,
            "grid_area": null,
            "grid_auto_columns": null,
            "grid_auto_flow": null,
            "grid_auto_rows": null,
            "grid_column": null,
            "grid_gap": null,
            "grid_row": null,
            "grid_template_areas": null,
            "grid_template_columns": null,
            "grid_template_rows": null,
            "height": null,
            "justify_content": null,
            "justify_items": null,
            "left": null,
            "margin": null,
            "max_height": null,
            "max_width": null,
            "min_height": null,
            "min_width": null,
            "object_fit": null,
            "object_position": null,
            "order": null,
            "overflow": null,
            "overflow_x": null,
            "overflow_y": null,
            "padding": null,
            "right": null,
            "top": null,
            "visibility": null,
            "width": null
          }
        },
        "58800380424a4131a196ad268848c655": {
          "model_module": "@jupyter-widgets/base",
          "model_module_version": "1.2.0",
          "model_name": "LayoutModel",
          "state": {
            "_model_module": "@jupyter-widgets/base",
            "_model_module_version": "1.2.0",
            "_model_name": "LayoutModel",
            "_view_count": null,
            "_view_module": "@jupyter-widgets/base",
            "_view_module_version": "1.2.0",
            "_view_name": "LayoutView",
            "align_content": null,
            "align_items": null,
            "align_self": null,
            "border": null,
            "bottom": null,
            "display": null,
            "flex": null,
            "flex_flow": null,
            "grid_area": null,
            "grid_auto_columns": null,
            "grid_auto_flow": null,
            "grid_auto_rows": null,
            "grid_column": null,
            "grid_gap": null,
            "grid_row": null,
            "grid_template_areas": null,
            "grid_template_columns": null,
            "grid_template_rows": null,
            "height": null,
            "justify_content": null,
            "justify_items": null,
            "left": null,
            "margin": null,
            "max_height": null,
            "max_width": null,
            "min_height": null,
            "min_width": null,
            "object_fit": null,
            "object_position": null,
            "order": null,
            "overflow": null,
            "overflow_x": null,
            "overflow_y": null,
            "padding": null,
            "right": null,
            "top": null,
            "visibility": null,
            "width": null
          }
        },
        "598407048f8a4f3da5624fa97df1f808": {
          "model_module": "@jupyter-widgets/base",
          "model_module_version": "1.2.0",
          "model_name": "LayoutModel",
          "state": {
            "_model_module": "@jupyter-widgets/base",
            "_model_module_version": "1.2.0",
            "_model_name": "LayoutModel",
            "_view_count": null,
            "_view_module": "@jupyter-widgets/base",
            "_view_module_version": "1.2.0",
            "_view_name": "LayoutView",
            "align_content": null,
            "align_items": null,
            "align_self": null,
            "border": null,
            "bottom": null,
            "display": null,
            "flex": null,
            "flex_flow": null,
            "grid_area": null,
            "grid_auto_columns": null,
            "grid_auto_flow": null,
            "grid_auto_rows": null,
            "grid_column": null,
            "grid_gap": null,
            "grid_row": null,
            "grid_template_areas": null,
            "grid_template_columns": null,
            "grid_template_rows": null,
            "height": null,
            "justify_content": null,
            "justify_items": null,
            "left": null,
            "margin": null,
            "max_height": null,
            "max_width": null,
            "min_height": null,
            "min_width": null,
            "object_fit": null,
            "object_position": null,
            "order": null,
            "overflow": null,
            "overflow_x": null,
            "overflow_y": null,
            "padding": null,
            "right": null,
            "top": null,
            "visibility": null,
            "width": null
          }
        },
        "64d3d9d3ac494bdb87dab3c1716b7bd2": {
          "model_module": "@jupyter-widgets/controls",
          "model_module_version": "1.5.0",
          "model_name": "DescriptionStyleModel",
          "state": {
            "_model_module": "@jupyter-widgets/controls",
            "_model_module_version": "1.5.0",
            "_model_name": "DescriptionStyleModel",
            "_view_count": null,
            "_view_module": "@jupyter-widgets/base",
            "_view_module_version": "1.2.0",
            "_view_name": "StyleView",
            "description_width": ""
          }
        },
        "6a136e9d9c3d4934a2eaf4a8152c4326": {
          "model_module": "@jupyter-widgets/controls",
          "model_module_version": "1.5.0",
          "model_name": "HBoxModel",
          "state": {
            "_dom_classes": [],
            "_model_module": "@jupyter-widgets/controls",
            "_model_module_version": "1.5.0",
            "_model_name": "HBoxModel",
            "_view_count": null,
            "_view_module": "@jupyter-widgets/controls",
            "_view_module_version": "1.5.0",
            "_view_name": "HBoxView",
            "box_style": "",
            "children": [
              "IPY_MODEL_48e23b3c223b4d17b7bc2f0811aab9c3",
              "IPY_MODEL_163a3f9b7a4d43ffbac16ce05184ea51",
              "IPY_MODEL_74dd9b68afc24da49ea63dd74ae01dd3"
            ],
            "layout": "IPY_MODEL_a890b735145443048fda7e10a313cdfe"
          }
        },
        "6adf3edd758247aea08275c0a79bcfbc": {
          "model_module": "@jupyter-widgets/controls",
          "model_module_version": "1.5.0",
          "model_name": "ProgressStyleModel",
          "state": {
            "_model_module": "@jupyter-widgets/controls",
            "_model_module_version": "1.5.0",
            "_model_name": "ProgressStyleModel",
            "_view_count": null,
            "_view_module": "@jupyter-widgets/base",
            "_view_module_version": "1.2.0",
            "_view_name": "StyleView",
            "bar_color": null,
            "description_width": ""
          }
        },
        "6c68496f2faa4d1e929627ffafb581b0": {
          "model_module": "@jupyter-widgets/controls",
          "model_module_version": "1.5.0",
          "model_name": "FloatProgressModel",
          "state": {
            "_dom_classes": [],
            "_model_module": "@jupyter-widgets/controls",
            "_model_module_version": "1.5.0",
            "_model_name": "FloatProgressModel",
            "_view_count": null,
            "_view_module": "@jupyter-widgets/controls",
            "_view_module_version": "1.5.0",
            "_view_name": "ProgressView",
            "bar_style": "success",
            "description": "",
            "description_tooltip": null,
            "layout": "IPY_MODEL_f1e24d8d69c5459e9805ec79ca3e882c",
            "max": 49,
            "min": 0,
            "orientation": "horizontal",
            "style": "IPY_MODEL_780c7121175b4ddab907c134cb5b0d5c",
            "value": 49
          }
        },
        "70d238ad5e1c437bb910e47faeca6d45": {
          "model_module": "@jupyter-widgets/controls",
          "model_module_version": "1.5.0",
          "model_name": "FloatProgressModel",
          "state": {
            "_dom_classes": [],
            "_model_module": "@jupyter-widgets/controls",
            "_model_module_version": "1.5.0",
            "_model_name": "FloatProgressModel",
            "_view_count": null,
            "_view_module": "@jupyter-widgets/controls",
            "_view_module_version": "1.5.0",
            "_view_name": "ProgressView",
            "bar_style": "success",
            "description": "",
            "description_tooltip": null,
            "layout": "IPY_MODEL_4258a5c8ad654e969282e128a3abf457",
            "max": 109540,
            "min": 0,
            "orientation": "horizontal",
            "style": "IPY_MODEL_405a6fe172844de08978c5fc0ff248be",
            "value": 109540
          }
        },
        "74dd9b68afc24da49ea63dd74ae01dd3": {
          "model_module": "@jupyter-widgets/controls",
          "model_module_version": "1.5.0",
          "model_name": "HTMLModel",
          "state": {
            "_dom_classes": [],
            "_model_module": "@jupyter-widgets/controls",
            "_model_module_version": "1.5.0",
            "_model_name": "HTMLModel",
            "_view_count": null,
            "_view_module": "@jupyter-widgets/controls",
            "_view_module_version": "1.5.0",
            "_view_name": "HTMLView",
            "description": "",
            "description_tooltip": null,
            "layout": "IPY_MODEL_48cfa3560c8d4d2aa04ae2670c15a135",
            "placeholder": "​",
            "style": "IPY_MODEL_d3b509d5257b4aa18a635c285e267994",
            "value": " 624/624 [00:00&lt;00:00, 49.5kB/s]"
          }
        },
        "775ef2bbf50a42e6a3f8ca7f93d833ab": {
          "model_module": "@jupyter-widgets/base",
          "model_module_version": "1.2.0",
          "model_name": "LayoutModel",
          "state": {
            "_model_module": "@jupyter-widgets/base",
            "_model_module_version": "1.2.0",
            "_model_name": "LayoutModel",
            "_view_count": null,
            "_view_module": "@jupyter-widgets/base",
            "_view_module_version": "1.2.0",
            "_view_name": "LayoutView",
            "align_content": null,
            "align_items": null,
            "align_self": null,
            "border": null,
            "bottom": null,
            "display": null,
            "flex": null,
            "flex_flow": null,
            "grid_area": null,
            "grid_auto_columns": null,
            "grid_auto_flow": null,
            "grid_auto_rows": null,
            "grid_column": null,
            "grid_gap": null,
            "grid_row": null,
            "grid_template_areas": null,
            "grid_template_columns": null,
            "grid_template_rows": null,
            "height": null,
            "justify_content": null,
            "justify_items": null,
            "left": null,
            "margin": null,
            "max_height": null,
            "max_width": null,
            "min_height": null,
            "min_width": null,
            "object_fit": null,
            "object_position": null,
            "order": null,
            "overflow": null,
            "overflow_x": null,
            "overflow_y": null,
            "padding": null,
            "right": null,
            "top": null,
            "visibility": null,
            "width": null
          }
        },
        "780c7121175b4ddab907c134cb5b0d5c": {
          "model_module": "@jupyter-widgets/controls",
          "model_module_version": "1.5.0",
          "model_name": "ProgressStyleModel",
          "state": {
            "_model_module": "@jupyter-widgets/controls",
            "_model_module_version": "1.5.0",
            "_model_name": "ProgressStyleModel",
            "_view_count": null,
            "_view_module": "@jupyter-widgets/base",
            "_view_module_version": "1.2.0",
            "_view_name": "StyleView",
            "bar_color": null,
            "description_width": ""
          }
        },
        "8848f1eba4214f369c31fce7ab171249": {
          "model_module": "@jupyter-widgets/controls",
          "model_module_version": "1.5.0",
          "model_name": "HBoxModel",
          "state": {
            "_dom_classes": [],
            "_model_module": "@jupyter-widgets/controls",
            "_model_module_version": "1.5.0",
            "_model_name": "HBoxModel",
            "_view_count": null,
            "_view_module": "@jupyter-widgets/controls",
            "_view_module_version": "1.5.0",
            "_view_name": "HBoxView",
            "box_style": "",
            "children": [
              "IPY_MODEL_0f80d146cd38416e8983d7557d46f645",
              "IPY_MODEL_6c68496f2faa4d1e929627ffafb581b0",
              "IPY_MODEL_1da1f30498a945debce59d6ef5f377bb"
            ],
            "layout": "IPY_MODEL_0f38e082e93543e8a6e9cd6be3905306"
          }
        },
        "8af3bd130a8447c181c5b3febdfbde98": {
          "model_module": "@jupyter-widgets/controls",
          "model_module_version": "1.5.0",
          "model_name": "HTMLModel",
          "state": {
            "_dom_classes": [],
            "_model_module": "@jupyter-widgets/controls",
            "_model_module_version": "1.5.0",
            "_model_name": "HTMLModel",
            "_view_count": null,
            "_view_module": "@jupyter-widgets/controls",
            "_view_module_version": "1.5.0",
            "_view_name": "HTMLView",
            "description": "",
            "description_tooltip": null,
            "layout": "IPY_MODEL_97a01915dc0a442fb6c5f31b993c337b",
            "placeholder": "​",
            "style": "IPY_MODEL_a424eea805c141f69acc139bde40981c",
            "value": "vocab.txt: 100%"
          }
        },
        "97a01915dc0a442fb6c5f31b993c337b": {
          "model_module": "@jupyter-widgets/base",
          "model_module_version": "1.2.0",
          "model_name": "LayoutModel",
          "state": {
            "_model_module": "@jupyter-widgets/base",
            "_model_module_version": "1.2.0",
            "_model_name": "LayoutModel",
            "_view_count": null,
            "_view_module": "@jupyter-widgets/base",
            "_view_module_version": "1.2.0",
            "_view_name": "LayoutView",
            "align_content": null,
            "align_items": null,
            "align_self": null,
            "border": null,
            "bottom": null,
            "display": null,
            "flex": null,
            "flex_flow": null,
            "grid_area": null,
            "grid_auto_columns": null,
            "grid_auto_flow": null,
            "grid_auto_rows": null,
            "grid_column": null,
            "grid_gap": null,
            "grid_row": null,
            "grid_template_areas": null,
            "grid_template_columns": null,
            "grid_template_rows": null,
            "height": null,
            "justify_content": null,
            "justify_items": null,
            "left": null,
            "margin": null,
            "max_height": null,
            "max_width": null,
            "min_height": null,
            "min_width": null,
            "object_fit": null,
            "object_position": null,
            "order": null,
            "overflow": null,
            "overflow_x": null,
            "overflow_y": null,
            "padding": null,
            "right": null,
            "top": null,
            "visibility": null,
            "width": null
          }
        },
        "9e1954b7c87548f9a897ca08e242b309": {
          "model_module": "@jupyter-widgets/base",
          "model_module_version": "1.2.0",
          "model_name": "LayoutModel",
          "state": {
            "_model_module": "@jupyter-widgets/base",
            "_model_module_version": "1.2.0",
            "_model_name": "LayoutModel",
            "_view_count": null,
            "_view_module": "@jupyter-widgets/base",
            "_view_module_version": "1.2.0",
            "_view_name": "LayoutView",
            "align_content": null,
            "align_items": null,
            "align_self": null,
            "border": null,
            "bottom": null,
            "display": null,
            "flex": null,
            "flex_flow": null,
            "grid_area": null,
            "grid_auto_columns": null,
            "grid_auto_flow": null,
            "grid_auto_rows": null,
            "grid_column": null,
            "grid_gap": null,
            "grid_row": null,
            "grid_template_areas": null,
            "grid_template_columns": null,
            "grid_template_rows": null,
            "height": null,
            "justify_content": null,
            "justify_items": null,
            "left": null,
            "margin": null,
            "max_height": null,
            "max_width": null,
            "min_height": null,
            "min_width": null,
            "object_fit": null,
            "object_position": null,
            "order": null,
            "overflow": null,
            "overflow_x": null,
            "overflow_y": null,
            "padding": null,
            "right": null,
            "top": null,
            "visibility": null,
            "width": null
          }
        },
        "a245a5aaf0d94a3aa84893a9d0bb5fae": {
          "model_module": "@jupyter-widgets/base",
          "model_module_version": "1.2.0",
          "model_name": "LayoutModel",
          "state": {
            "_model_module": "@jupyter-widgets/base",
            "_model_module_version": "1.2.0",
            "_model_name": "LayoutModel",
            "_view_count": null,
            "_view_module": "@jupyter-widgets/base",
            "_view_module_version": "1.2.0",
            "_view_name": "LayoutView",
            "align_content": null,
            "align_items": null,
            "align_self": null,
            "border": null,
            "bottom": null,
            "display": null,
            "flex": null,
            "flex_flow": null,
            "grid_area": null,
            "grid_auto_columns": null,
            "grid_auto_flow": null,
            "grid_auto_rows": null,
            "grid_column": null,
            "grid_gap": null,
            "grid_row": null,
            "grid_template_areas": null,
            "grid_template_columns": null,
            "grid_template_rows": null,
            "height": null,
            "justify_content": null,
            "justify_items": null,
            "left": null,
            "margin": null,
            "max_height": null,
            "max_width": null,
            "min_height": null,
            "min_width": null,
            "object_fit": null,
            "object_position": null,
            "order": null,
            "overflow": null,
            "overflow_x": null,
            "overflow_y": null,
            "padding": null,
            "right": null,
            "top": null,
            "visibility": null,
            "width": null
          }
        },
        "a424eea805c141f69acc139bde40981c": {
          "model_module": "@jupyter-widgets/controls",
          "model_module_version": "1.5.0",
          "model_name": "DescriptionStyleModel",
          "state": {
            "_model_module": "@jupyter-widgets/controls",
            "_model_module_version": "1.5.0",
            "_model_name": "DescriptionStyleModel",
            "_view_count": null,
            "_view_module": "@jupyter-widgets/base",
            "_view_module_version": "1.2.0",
            "_view_name": "StyleView",
            "description_width": ""
          }
        },
        "a78f2576e01b4bac9c720d8a39f444a9": {
          "model_module": "@jupyter-widgets/base",
          "model_module_version": "1.2.0",
          "model_name": "LayoutModel",
          "state": {
            "_model_module": "@jupyter-widgets/base",
            "_model_module_version": "1.2.0",
            "_model_name": "LayoutModel",
            "_view_count": null,
            "_view_module": "@jupyter-widgets/base",
            "_view_module_version": "1.2.0",
            "_view_name": "LayoutView",
            "align_content": null,
            "align_items": null,
            "align_self": null,
            "border": null,
            "bottom": null,
            "display": null,
            "flex": null,
            "flex_flow": null,
            "grid_area": null,
            "grid_auto_columns": null,
            "grid_auto_flow": null,
            "grid_auto_rows": null,
            "grid_column": null,
            "grid_gap": null,
            "grid_row": null,
            "grid_template_areas": null,
            "grid_template_columns": null,
            "grid_template_rows": null,
            "height": null,
            "justify_content": null,
            "justify_items": null,
            "left": null,
            "margin": null,
            "max_height": null,
            "max_width": null,
            "min_height": null,
            "min_width": null,
            "object_fit": null,
            "object_position": null,
            "order": null,
            "overflow": null,
            "overflow_x": null,
            "overflow_y": null,
            "padding": null,
            "right": null,
            "top": null,
            "visibility": null,
            "width": null
          }
        },
        "a890b735145443048fda7e10a313cdfe": {
          "model_module": "@jupyter-widgets/base",
          "model_module_version": "1.2.0",
          "model_name": "LayoutModel",
          "state": {
            "_model_module": "@jupyter-widgets/base",
            "_model_module_version": "1.2.0",
            "_model_name": "LayoutModel",
            "_view_count": null,
            "_view_module": "@jupyter-widgets/base",
            "_view_module_version": "1.2.0",
            "_view_name": "LayoutView",
            "align_content": null,
            "align_items": null,
            "align_self": null,
            "border": null,
            "bottom": null,
            "display": null,
            "flex": null,
            "flex_flow": null,
            "grid_area": null,
            "grid_auto_columns": null,
            "grid_auto_flow": null,
            "grid_auto_rows": null,
            "grid_column": null,
            "grid_gap": null,
            "grid_row": null,
            "grid_template_areas": null,
            "grid_template_columns": null,
            "grid_template_rows": null,
            "height": null,
            "justify_content": null,
            "justify_items": null,
            "left": null,
            "margin": null,
            "max_height": null,
            "max_width": null,
            "min_height": null,
            "min_width": null,
            "object_fit": null,
            "object_position": null,
            "order": null,
            "overflow": null,
            "overflow_x": null,
            "overflow_y": null,
            "padding": null,
            "right": null,
            "top": null,
            "visibility": null,
            "width": null
          }
        },
        "b27b7f749308455e99bf01c86c44f8c8": {
          "model_module": "@jupyter-widgets/base",
          "model_module_version": "1.2.0",
          "model_name": "LayoutModel",
          "state": {
            "_model_module": "@jupyter-widgets/base",
            "_model_module_version": "1.2.0",
            "_model_name": "LayoutModel",
            "_view_count": null,
            "_view_module": "@jupyter-widgets/base",
            "_view_module_version": "1.2.0",
            "_view_name": "LayoutView",
            "align_content": null,
            "align_items": null,
            "align_self": null,
            "border": null,
            "bottom": null,
            "display": null,
            "flex": null,
            "flex_flow": null,
            "grid_area": null,
            "grid_auto_columns": null,
            "grid_auto_flow": null,
            "grid_auto_rows": null,
            "grid_column": null,
            "grid_gap": null,
            "grid_row": null,
            "grid_template_areas": null,
            "grid_template_columns": null,
            "grid_template_rows": null,
            "height": null,
            "justify_content": null,
            "justify_items": null,
            "left": null,
            "margin": null,
            "max_height": null,
            "max_width": null,
            "min_height": null,
            "min_width": null,
            "object_fit": null,
            "object_position": null,
            "order": null,
            "overflow": null,
            "overflow_x": null,
            "overflow_y": null,
            "padding": null,
            "right": null,
            "top": null,
            "visibility": null,
            "width": null
          }
        },
        "b59deadec4194bc69f64dd5eac99a649": {
          "model_module": "@jupyter-widgets/controls",
          "model_module_version": "1.5.0",
          "model_name": "HBoxModel",
          "state": {
            "_dom_classes": [],
            "_model_module": "@jupyter-widgets/controls",
            "_model_module_version": "1.5.0",
            "_model_name": "HBoxModel",
            "_view_count": null,
            "_view_module": "@jupyter-widgets/controls",
            "_view_module_version": "1.5.0",
            "_view_name": "HBoxView",
            "box_style": "",
            "children": [
              "IPY_MODEL_f90752f742da476093e1957b3113e684",
              "IPY_MODEL_dbb7a053d65645f395cb6ed9a8d0ee5a",
              "IPY_MODEL_c5602b6bbaea433787e92877d317fccd"
            ],
            "layout": "IPY_MODEL_a245a5aaf0d94a3aa84893a9d0bb5fae"
          }
        },
        "bce75119b405481f8622c07406447d11": {
          "model_module": "@jupyter-widgets/controls",
          "model_module_version": "1.5.0",
          "model_name": "HTMLModel",
          "state": {
            "_dom_classes": [],
            "_model_module": "@jupyter-widgets/controls",
            "_model_module_version": "1.5.0",
            "_model_name": "HTMLModel",
            "_view_count": null,
            "_view_module": "@jupyter-widgets/controls",
            "_view_module_version": "1.5.0",
            "_view_name": "HTMLView",
            "description": "",
            "description_tooltip": null,
            "layout": "IPY_MODEL_9e1954b7c87548f9a897ca08e242b309",
            "placeholder": "​",
            "style": "IPY_MODEL_4b01a77b6dbf45c281c70daf335d2a08",
            "value": " 110k/110k [00:00&lt;00:00, 544kB/s]"
          }
        },
        "c5602b6bbaea433787e92877d317fccd": {
          "model_module": "@jupyter-widgets/controls",
          "model_module_version": "1.5.0",
          "model_name": "HTMLModel",
          "state": {
            "_dom_classes": [],
            "_model_module": "@jupyter-widgets/controls",
            "_model_module_version": "1.5.0",
            "_model_name": "HTMLModel",
            "_view_count": null,
            "_view_module": "@jupyter-widgets/controls",
            "_view_module_version": "1.5.0",
            "_view_name": "HTMLView",
            "description": "",
            "description_tooltip": null,
            "layout": "IPY_MODEL_e81683ad3ebe4ba6897b62f2e9bd03a0",
            "placeholder": "​",
            "style": "IPY_MODEL_1572f4dfb31c4fbe94996287449ab281",
            "value": " 269k/269k [00:00&lt;00:00, 677kB/s]"
          }
        },
        "cfe09d8e298a43bca53d043c29e7bf3d": {
          "model_module": "@jupyter-widgets/controls",
          "model_module_version": "1.5.0",
          "model_name": "HTMLModel",
          "state": {
            "_dom_classes": [],
            "_model_module": "@jupyter-widgets/controls",
            "_model_module_version": "1.5.0",
            "_model_name": "HTMLModel",
            "_view_count": null,
            "_view_module": "@jupyter-widgets/controls",
            "_view_module_version": "1.5.0",
            "_view_name": "HTMLView",
            "description": "",
            "description_tooltip": null,
            "layout": "IPY_MODEL_442a8525455849298f9bb902250019f5",
            "placeholder": "​",
            "style": "IPY_MODEL_64d3d9d3ac494bdb87dab3c1716b7bd2",
            "value": " 412M/412M [00:02&lt;00:00, 161MB/s]"
          }
        },
        "d3b509d5257b4aa18a635c285e267994": {
          "model_module": "@jupyter-widgets/controls",
          "model_module_version": "1.5.0",
          "model_name": "DescriptionStyleModel",
          "state": {
            "_model_module": "@jupyter-widgets/controls",
            "_model_module_version": "1.5.0",
            "_model_name": "DescriptionStyleModel",
            "_view_count": null,
            "_view_module": "@jupyter-widgets/base",
            "_view_module_version": "1.2.0",
            "_view_name": "StyleView",
            "description_width": ""
          }
        },
        "dbb7a053d65645f395cb6ed9a8d0ee5a": {
          "model_module": "@jupyter-widgets/controls",
          "model_module_version": "1.5.0",
          "model_name": "FloatProgressModel",
          "state": {
            "_dom_classes": [],
            "_model_module": "@jupyter-widgets/controls",
            "_model_module_version": "1.5.0",
            "_model_name": "FloatProgressModel",
            "_view_count": null,
            "_view_module": "@jupyter-widgets/controls",
            "_view_module_version": "1.5.0",
            "_view_name": "ProgressView",
            "bar_style": "success",
            "description": "",
            "description_tooltip": null,
            "layout": "IPY_MODEL_fd64fbfcc7b0439ea9fec503cf2418b0",
            "max": 268943,
            "min": 0,
            "orientation": "horizontal",
            "style": "IPY_MODEL_505a03290e5341c687a16142d2db45a0",
            "value": 268943
          }
        },
        "e4729d6f6e224215989da66ef0f243f6": {
          "model_module": "@jupyter-widgets/controls",
          "model_module_version": "1.5.0",
          "model_name": "DescriptionStyleModel",
          "state": {
            "_model_module": "@jupyter-widgets/controls",
            "_model_module_version": "1.5.0",
            "_model_name": "DescriptionStyleModel",
            "_view_count": null,
            "_view_module": "@jupyter-widgets/base",
            "_view_module_version": "1.2.0",
            "_view_name": "StyleView",
            "description_width": ""
          }
        },
        "e81683ad3ebe4ba6897b62f2e9bd03a0": {
          "model_module": "@jupyter-widgets/base",
          "model_module_version": "1.2.0",
          "model_name": "LayoutModel",
          "state": {
            "_model_module": "@jupyter-widgets/base",
            "_model_module_version": "1.2.0",
            "_model_name": "LayoutModel",
            "_view_count": null,
            "_view_module": "@jupyter-widgets/base",
            "_view_module_version": "1.2.0",
            "_view_name": "LayoutView",
            "align_content": null,
            "align_items": null,
            "align_self": null,
            "border": null,
            "bottom": null,
            "display": null,
            "flex": null,
            "flex_flow": null,
            "grid_area": null,
            "grid_auto_columns": null,
            "grid_auto_flow": null,
            "grid_auto_rows": null,
            "grid_column": null,
            "grid_gap": null,
            "grid_row": null,
            "grid_template_areas": null,
            "grid_template_columns": null,
            "grid_template_rows": null,
            "height": null,
            "justify_content": null,
            "justify_items": null,
            "left": null,
            "margin": null,
            "max_height": null,
            "max_width": null,
            "min_height": null,
            "min_width": null,
            "object_fit": null,
            "object_position": null,
            "order": null,
            "overflow": null,
            "overflow_x": null,
            "overflow_y": null,
            "padding": null,
            "right": null,
            "top": null,
            "visibility": null,
            "width": null
          }
        },
        "eb36dc9234df4d8c94b17d00863d0508": {
          "model_module": "@jupyter-widgets/controls",
          "model_module_version": "1.5.0",
          "model_name": "DescriptionStyleModel",
          "state": {
            "_model_module": "@jupyter-widgets/controls",
            "_model_module_version": "1.5.0",
            "_model_name": "DescriptionStyleModel",
            "_view_count": null,
            "_view_module": "@jupyter-widgets/base",
            "_view_module_version": "1.2.0",
            "_view_name": "StyleView",
            "description_width": ""
          }
        },
        "f1e24d8d69c5459e9805ec79ca3e882c": {
          "model_module": "@jupyter-widgets/base",
          "model_module_version": "1.2.0",
          "model_name": "LayoutModel",
          "state": {
            "_model_module": "@jupyter-widgets/base",
            "_model_module_version": "1.2.0",
            "_model_name": "LayoutModel",
            "_view_count": null,
            "_view_module": "@jupyter-widgets/base",
            "_view_module_version": "1.2.0",
            "_view_name": "LayoutView",
            "align_content": null,
            "align_items": null,
            "align_self": null,
            "border": null,
            "bottom": null,
            "display": null,
            "flex": null,
            "flex_flow": null,
            "grid_area": null,
            "grid_auto_columns": null,
            "grid_auto_flow": null,
            "grid_auto_rows": null,
            "grid_column": null,
            "grid_gap": null,
            "grid_row": null,
            "grid_template_areas": null,
            "grid_template_columns": null,
            "grid_template_rows": null,
            "height": null,
            "justify_content": null,
            "justify_items": null,
            "left": null,
            "margin": null,
            "max_height": null,
            "max_width": null,
            "min_height": null,
            "min_width": null,
            "object_fit": null,
            "object_position": null,
            "order": null,
            "overflow": null,
            "overflow_x": null,
            "overflow_y": null,
            "padding": null,
            "right": null,
            "top": null,
            "visibility": null,
            "width": null
          }
        },
        "f4d58b118f094a3794071b27f6d150c5": {
          "model_module": "@jupyter-widgets/controls",
          "model_module_version": "1.5.0",
          "model_name": "DescriptionStyleModel",
          "state": {
            "_model_module": "@jupyter-widgets/controls",
            "_model_module_version": "1.5.0",
            "_model_name": "DescriptionStyleModel",
            "_view_count": null,
            "_view_module": "@jupyter-widgets/base",
            "_view_module_version": "1.2.0",
            "_view_name": "StyleView",
            "description_width": ""
          }
        },
        "f90752f742da476093e1957b3113e684": {
          "model_module": "@jupyter-widgets/controls",
          "model_module_version": "1.5.0",
          "model_name": "HTMLModel",
          "state": {
            "_dom_classes": [],
            "_model_module": "@jupyter-widgets/controls",
            "_model_module_version": "1.5.0",
            "_model_name": "HTMLModel",
            "_view_count": null,
            "_view_module": "@jupyter-widgets/controls",
            "_view_module_version": "1.5.0",
            "_view_name": "HTMLView",
            "description": "",
            "description_tooltip": null,
            "layout": "IPY_MODEL_598407048f8a4f3da5624fa97df1f808",
            "placeholder": "​",
            "style": "IPY_MODEL_f4d58b118f094a3794071b27f6d150c5",
            "value": "tokenizer.json: 100%"
          }
        },
        "fb6aa76d99be4b2294d8c680a0086d12": {
          "model_module": "@jupyter-widgets/base",
          "model_module_version": "1.2.0",
          "model_name": "LayoutModel",
          "state": {
            "_model_module": "@jupyter-widgets/base",
            "_model_module_version": "1.2.0",
            "_model_name": "LayoutModel",
            "_view_count": null,
            "_view_module": "@jupyter-widgets/base",
            "_view_module_version": "1.2.0",
            "_view_name": "LayoutView",
            "align_content": null,
            "align_items": null,
            "align_self": null,
            "border": null,
            "bottom": null,
            "display": null,
            "flex": null,
            "flex_flow": null,
            "grid_area": null,
            "grid_auto_columns": null,
            "grid_auto_flow": null,
            "grid_auto_rows": null,
            "grid_column": null,
            "grid_gap": null,
            "grid_row": null,
            "grid_template_areas": null,
            "grid_template_columns": null,
            "grid_template_rows": null,
            "height": null,
            "justify_content": null,
            "justify_items": null,
            "left": null,
            "margin": null,
            "max_height": null,
            "max_width": null,
            "min_height": null,
            "min_width": null,
            "object_fit": null,
            "object_position": null,
            "order": null,
            "overflow": null,
            "overflow_x": null,
            "overflow_y": null,
            "padding": null,
            "right": null,
            "top": null,
            "visibility": null,
            "width": null
          }
        },
        "fd64fbfcc7b0439ea9fec503cf2418b0": {
          "model_module": "@jupyter-widgets/base",
          "model_module_version": "1.2.0",
          "model_name": "LayoutModel",
          "state": {
            "_model_module": "@jupyter-widgets/base",
            "_model_module_version": "1.2.0",
            "_model_name": "LayoutModel",
            "_view_count": null,
            "_view_module": "@jupyter-widgets/base",
            "_view_module_version": "1.2.0",
            "_view_name": "LayoutView",
            "align_content": null,
            "align_items": null,
            "align_self": null,
            "border": null,
            "bottom": null,
            "display": null,
            "flex": null,
            "flex_flow": null,
            "grid_area": null,
            "grid_auto_columns": null,
            "grid_auto_flow": null,
            "grid_auto_rows": null,
            "grid_column": null,
            "grid_gap": null,
            "grid_row": null,
            "grid_template_areas": null,
            "grid_template_columns": null,
            "grid_template_rows": null,
            "height": null,
            "justify_content": null,
            "justify_items": null,
            "left": null,
            "margin": null,
            "max_height": null,
            "max_width": null,
            "min_height": null,
            "min_width": null,
            "object_fit": null,
            "object_position": null,
            "order": null,
            "overflow": null,
            "overflow_x": null,
            "overflow_y": null,
            "padding": null,
            "right": null,
            "top": null,
            "visibility": null,
            "width": null
          }
        }
      }
    }
  },
  "nbformat": 4,
  "nbformat_minor": 0
}
